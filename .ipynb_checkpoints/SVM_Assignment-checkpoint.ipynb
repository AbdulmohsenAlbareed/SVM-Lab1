{
 "cells": [
  {
   "cell_type": "markdown",
   "id": "f64fe8f3",
   "metadata": {},
   "source": [
    "# Tweet classification: Trump vs. Trudeau"
   ]
  },
  {
   "cell_type": "markdown",
   "id": "9e7fe2f9",
   "metadata": {},
   "source": [
    "# 1. Import the libraries\n",
    "\n",
    "- Note : use a specific random state for your solution."
   ]
  },
  {
   "cell_type": "code",
   "execution_count": 1,
   "id": "5ded69b7",
   "metadata": {},
   "outputs": [],
   "source": [
    "import warnings\n",
    "warnings.filterwarnings('ignore')\n",
    "import pandas as pd\n",
    "import numpy as np\n",
    "import seaborn as sns\n",
    "from sklearn import datasets, svm, model_selection, metrics\n",
    "from sklearn.metrics import confusion_matrix\n",
    "from sklearn.metrics import accuracy_score\n",
    "import matplotlib.pyplot as plt"
   ]
  },
  {
   "cell_type": "markdown",
   "id": "0098afc7",
   "metadata": {},
   "source": [
    "# 2. Read the dataset"
   ]
  },
  {
   "cell_type": "code",
   "execution_count": 2,
   "id": "b82cb339",
   "metadata": {},
   "outputs": [
    {
     "data": {
      "text/html": [
       "<div>\n",
       "<style scoped>\n",
       "    .dataframe tbody tr th:only-of-type {\n",
       "        vertical-align: middle;\n",
       "    }\n",
       "\n",
       "    .dataframe tbody tr th {\n",
       "        vertical-align: top;\n",
       "    }\n",
       "\n",
       "    .dataframe thead th {\n",
       "        text-align: right;\n",
       "    }\n",
       "</style>\n",
       "<table border=\"1\" class=\"dataframe\">\n",
       "  <thead>\n",
       "    <tr style=\"text-align: right;\">\n",
       "      <th></th>\n",
       "      <th>id</th>\n",
       "      <th>author</th>\n",
       "      <th>status</th>\n",
       "    </tr>\n",
       "  </thead>\n",
       "  <tbody>\n",
       "    <tr>\n",
       "      <th>0</th>\n",
       "      <td>1</td>\n",
       "      <td>Donald J. Trump</td>\n",
       "      <td>I will be making a major statement from the @W...</td>\n",
       "    </tr>\n",
       "    <tr>\n",
       "      <th>1</th>\n",
       "      <td>2</td>\n",
       "      <td>Donald J. Trump</td>\n",
       "      <td>Just arrived at #ASEAN50 in the Philippines fo...</td>\n",
       "    </tr>\n",
       "    <tr>\n",
       "      <th>2</th>\n",
       "      <td>3</td>\n",
       "      <td>Donald J. Trump</td>\n",
       "      <td>After my tour of Asia, all Countries dealing w...</td>\n",
       "    </tr>\n",
       "    <tr>\n",
       "      <th>3</th>\n",
       "      <td>4</td>\n",
       "      <td>Donald J. Trump</td>\n",
       "      <td>Great to see @RandPaul looking well and back o...</td>\n",
       "    </tr>\n",
       "    <tr>\n",
       "      <th>4</th>\n",
       "      <td>5</td>\n",
       "      <td>Donald J. Trump</td>\n",
       "      <td>Excited to be heading home to see the House pa...</td>\n",
       "    </tr>\n",
       "    <tr>\n",
       "      <th>...</th>\n",
       "      <td>...</td>\n",
       "      <td>...</td>\n",
       "      <td>...</td>\n",
       "    </tr>\n",
       "    <tr>\n",
       "      <th>395</th>\n",
       "      <td>396</td>\n",
       "      <td>Justin Trudeau</td>\n",
       "      <td>RT @googlecanada: Watch tmw: @JustinTrudeau di...</td>\n",
       "    </tr>\n",
       "    <tr>\n",
       "      <th>396</th>\n",
       "      <td>397</td>\n",
       "      <td>Justin Trudeau</td>\n",
       "      <td>Today in Ottawa, I met with the Modern Treaty ...</td>\n",
       "    </tr>\n",
       "    <tr>\n",
       "      <th>397</th>\n",
       "      <td>398</td>\n",
       "      <td>Justin Trudeau</td>\n",
       "      <td>Voici le sommaire de ma rencontre avec les Pre...</td>\n",
       "    </tr>\n",
       "    <tr>\n",
       "      <th>398</th>\n",
       "      <td>399</td>\n",
       "      <td>Justin Trudeau</td>\n",
       "      <td>RT @VeteransENG_CA: #Day1 of 11 Days of Rememb...</td>\n",
       "    </tr>\n",
       "    <tr>\n",
       "      <th>399</th>\n",
       "      <td>400</td>\n",
       "      <td>Justin Trudeau</td>\n",
       "      <td>RT @VeteransFR_CA: #Jour1 des 11 jours pour se...</td>\n",
       "    </tr>\n",
       "  </tbody>\n",
       "</table>\n",
       "<p>400 rows × 3 columns</p>\n",
       "</div>"
      ],
      "text/plain": [
       "      id           author                                             status\n",
       "0      1  Donald J. Trump  I will be making a major statement from the @W...\n",
       "1      2  Donald J. Trump  Just arrived at #ASEAN50 in the Philippines fo...\n",
       "2      3  Donald J. Trump  After my tour of Asia, all Countries dealing w...\n",
       "3      4  Donald J. Trump  Great to see @RandPaul looking well and back o...\n",
       "4      5  Donald J. Trump  Excited to be heading home to see the House pa...\n",
       "..   ...              ...                                                ...\n",
       "395  396   Justin Trudeau  RT @googlecanada: Watch tmw: @JustinTrudeau di...\n",
       "396  397   Justin Trudeau  Today in Ottawa, I met with the Modern Treaty ...\n",
       "397  398   Justin Trudeau  Voici le sommaire de ma rencontre avec les Pre...\n",
       "398  399   Justin Trudeau  RT @VeteransENG_CA: #Day1 of 11 Days of Rememb...\n",
       "399  400   Justin Trudeau  RT @VeteransFR_CA: #Jour1 des 11 jours pour se...\n",
       "\n",
       "[400 rows x 3 columns]"
      ]
     },
     "execution_count": 2,
     "metadata": {},
     "output_type": "execute_result"
    }
   ],
   "source": [
    "df = pd.read_csv(\"tweets.csv\")\n",
    "df"
   ]
  },
  {
   "cell_type": "markdown",
   "id": "973ca1dd",
   "metadata": {},
   "source": [
    "# 3. Split the dataset into X and y"
   ]
  },
  {
   "cell_type": "code",
   "execution_count": 3,
   "id": "5f23334b",
   "metadata": {},
   "outputs": [],
   "source": [
    "X=df[\"status\"]\n",
    "y=df[\"author\"]"
   ]
  },
  {
   "cell_type": "markdown",
   "id": "0555d930",
   "metadata": {},
   "source": [
    "# 4. Split the dataset into training set and testing set"
   ]
  },
  {
   "cell_type": "code",
   "execution_count": 4,
   "id": "6e46c11e",
   "metadata": {},
   "outputs": [],
   "source": [
    "from sklearn.model_selection import train_test_split\n",
    "X_train , X_test , y_train , y_test =train_test_split(X , y , test_size=0.30, random_state=32)"
   ]
  },
  {
   "cell_type": "markdown",
   "id": "19af5bd9",
   "metadata": {},
   "source": [
    "# 5. Vectorize the tweets\n",
    "\n",
    "- Note : Read about CountVectorizer and TfidfVectorizer methods and use them in training and testing dataset."
   ]
  },
  {
   "cell_type": "code",
   "execution_count": 5,
   "id": "08cd6b10",
   "metadata": {},
   "outputs": [],
   "source": [
    "from sklearn.feature_extraction.text import CountVectorizer , TfidfVectorizer"
   ]
  },
  {
   "cell_type": "code",
   "execution_count": 6,
   "id": "cb3a769c",
   "metadata": {},
   "outputs": [],
   "source": [
    "countVector = CountVectorizer()\n",
    "tfidfVector = TfidfVectorizer()"
   ]
  },
  {
   "cell_type": "code",
   "execution_count": 7,
   "id": "8e5ab6d9",
   "metadata": {},
   "outputs": [],
   "source": [
    "x_train_count= countVector.fit_transform(X_train)\n",
    "x_train_tfidf= tfidfVector.fit_transform(X_train)"
   ]
  },
  {
   "cell_type": "code",
   "execution_count": 8,
   "id": "f2338054",
   "metadata": {},
   "outputs": [],
   "source": [
    "x_test_count= countVector.transform(X_test)\n",
    "x_test_tfidf= tfidfVector.transform(X_test)"
   ]
  },
  {
   "cell_type": "markdown",
   "id": "be72e926",
   "metadata": {},
   "source": [
    "# 6. Train a Logistic Regression model\n",
    "\n",
    "- Build and train two models, the first by using the tfidf data, and the second by using count vectorize data."
   ]
  },
  {
   "cell_type": "code",
   "execution_count": 9,
   "id": "5e1cccc1",
   "metadata": {},
   "outputs": [],
   "source": [
    "from sklearn.linear_model import LogisticRegression"
   ]
  },
  {
   "cell_type": "code",
   "execution_count": 10,
   "id": "6c3db465",
   "metadata": {},
   "outputs": [],
   "source": [
    "log_count=LogisticRegression()\n",
    "log_tfidf=LogisticRegression()"
   ]
  },
  {
   "cell_type": "code",
   "execution_count": 11,
   "id": "5cf8c19b",
   "metadata": {},
   "outputs": [
    {
     "data": {
      "text/html": [
       "<style>#sk-container-id-1 {color: black;background-color: white;}#sk-container-id-1 pre{padding: 0;}#sk-container-id-1 div.sk-toggleable {background-color: white;}#sk-container-id-1 label.sk-toggleable__label {cursor: pointer;display: block;width: 100%;margin-bottom: 0;padding: 0.3em;box-sizing: border-box;text-align: center;}#sk-container-id-1 label.sk-toggleable__label-arrow:before {content: \"▸\";float: left;margin-right: 0.25em;color: #696969;}#sk-container-id-1 label.sk-toggleable__label-arrow:hover:before {color: black;}#sk-container-id-1 div.sk-estimator:hover label.sk-toggleable__label-arrow:before {color: black;}#sk-container-id-1 div.sk-toggleable__content {max-height: 0;max-width: 0;overflow: hidden;text-align: left;background-color: #f0f8ff;}#sk-container-id-1 div.sk-toggleable__content pre {margin: 0.2em;color: black;border-radius: 0.25em;background-color: #f0f8ff;}#sk-container-id-1 input.sk-toggleable__control:checked~div.sk-toggleable__content {max-height: 200px;max-width: 100%;overflow: auto;}#sk-container-id-1 input.sk-toggleable__control:checked~label.sk-toggleable__label-arrow:before {content: \"▾\";}#sk-container-id-1 div.sk-estimator input.sk-toggleable__control:checked~label.sk-toggleable__label {background-color: #d4ebff;}#sk-container-id-1 div.sk-label input.sk-toggleable__control:checked~label.sk-toggleable__label {background-color: #d4ebff;}#sk-container-id-1 input.sk-hidden--visually {border: 0;clip: rect(1px 1px 1px 1px);clip: rect(1px, 1px, 1px, 1px);height: 1px;margin: -1px;overflow: hidden;padding: 0;position: absolute;width: 1px;}#sk-container-id-1 div.sk-estimator {font-family: monospace;background-color: #f0f8ff;border: 1px dotted black;border-radius: 0.25em;box-sizing: border-box;margin-bottom: 0.5em;}#sk-container-id-1 div.sk-estimator:hover {background-color: #d4ebff;}#sk-container-id-1 div.sk-parallel-item::after {content: \"\";width: 100%;border-bottom: 1px solid gray;flex-grow: 1;}#sk-container-id-1 div.sk-label:hover label.sk-toggleable__label {background-color: #d4ebff;}#sk-container-id-1 div.sk-serial::before {content: \"\";position: absolute;border-left: 1px solid gray;box-sizing: border-box;top: 0;bottom: 0;left: 50%;z-index: 0;}#sk-container-id-1 div.sk-serial {display: flex;flex-direction: column;align-items: center;background-color: white;padding-right: 0.2em;padding-left: 0.2em;position: relative;}#sk-container-id-1 div.sk-item {position: relative;z-index: 1;}#sk-container-id-1 div.sk-parallel {display: flex;align-items: stretch;justify-content: center;background-color: white;position: relative;}#sk-container-id-1 div.sk-item::before, #sk-container-id-1 div.sk-parallel-item::before {content: \"\";position: absolute;border-left: 1px solid gray;box-sizing: border-box;top: 0;bottom: 0;left: 50%;z-index: -1;}#sk-container-id-1 div.sk-parallel-item {display: flex;flex-direction: column;z-index: 1;position: relative;background-color: white;}#sk-container-id-1 div.sk-parallel-item:first-child::after {align-self: flex-end;width: 50%;}#sk-container-id-1 div.sk-parallel-item:last-child::after {align-self: flex-start;width: 50%;}#sk-container-id-1 div.sk-parallel-item:only-child::after {width: 0;}#sk-container-id-1 div.sk-dashed-wrapped {border: 1px dashed gray;margin: 0 0.4em 0.5em 0.4em;box-sizing: border-box;padding-bottom: 0.4em;background-color: white;}#sk-container-id-1 div.sk-label label {font-family: monospace;font-weight: bold;display: inline-block;line-height: 1.2em;}#sk-container-id-1 div.sk-label-container {text-align: center;}#sk-container-id-1 div.sk-container {/* jupyter's `normalize.less` sets `[hidden] { display: none; }` but bootstrap.min.css set `[hidden] { display: none !important; }` so we also need the `!important` here to be able to override the default hidden behavior on the sphinx rendered scikit-learn.org. See: https://github.com/scikit-learn/scikit-learn/issues/21755 */display: inline-block !important;position: relative;}#sk-container-id-1 div.sk-text-repr-fallback {display: none;}</style><div id=\"sk-container-id-1\" class=\"sk-top-container\"><div class=\"sk-text-repr-fallback\"><pre>LogisticRegression()</pre><b>In a Jupyter environment, please rerun this cell to show the HTML representation or trust the notebook. <br />On GitHub, the HTML representation is unable to render, please try loading this page with nbviewer.org.</b></div><div class=\"sk-container\" hidden><div class=\"sk-item\"><div class=\"sk-estimator sk-toggleable\"><input class=\"sk-toggleable__control sk-hidden--visually\" id=\"sk-estimator-id-1\" type=\"checkbox\" checked><label for=\"sk-estimator-id-1\" class=\"sk-toggleable__label sk-toggleable__label-arrow\">LogisticRegression</label><div class=\"sk-toggleable__content\"><pre>LogisticRegression()</pre></div></div></div></div></div>"
      ],
      "text/plain": [
       "LogisticRegression()"
      ]
     },
     "execution_count": 11,
     "metadata": {},
     "output_type": "execute_result"
    }
   ],
   "source": [
    "log_count.fit(x_train_count , y_train)\n",
    "log_tfidf.fit(x_train_tfidf , y_train)"
   ]
  },
  {
   "cell_type": "markdown",
   "id": "3098f445",
   "metadata": {},
   "source": [
    "# 7. Train a SVM model\n",
    "\n",
    "- Build and train two models, the first by using the tfidf data, and the second by using count vectorize data."
   ]
  },
  {
   "cell_type": "code",
   "execution_count": 12,
   "id": "e0b7d25a",
   "metadata": {},
   "outputs": [],
   "source": [
    "from sklearn.svm import SVC"
   ]
  },
  {
   "cell_type": "code",
   "execution_count": 13,
   "id": "4005ee1e",
   "metadata": {},
   "outputs": [],
   "source": [
    "svm_count = SVC()\n",
    "svm_tfidf = SVC()"
   ]
  },
  {
   "cell_type": "code",
   "execution_count": 14,
   "id": "b76bc60c",
   "metadata": {},
   "outputs": [
    {
     "data": {
      "text/html": [
       "<style>#sk-container-id-2 {color: black;background-color: white;}#sk-container-id-2 pre{padding: 0;}#sk-container-id-2 div.sk-toggleable {background-color: white;}#sk-container-id-2 label.sk-toggleable__label {cursor: pointer;display: block;width: 100%;margin-bottom: 0;padding: 0.3em;box-sizing: border-box;text-align: center;}#sk-container-id-2 label.sk-toggleable__label-arrow:before {content: \"▸\";float: left;margin-right: 0.25em;color: #696969;}#sk-container-id-2 label.sk-toggleable__label-arrow:hover:before {color: black;}#sk-container-id-2 div.sk-estimator:hover label.sk-toggleable__label-arrow:before {color: black;}#sk-container-id-2 div.sk-toggleable__content {max-height: 0;max-width: 0;overflow: hidden;text-align: left;background-color: #f0f8ff;}#sk-container-id-2 div.sk-toggleable__content pre {margin: 0.2em;color: black;border-radius: 0.25em;background-color: #f0f8ff;}#sk-container-id-2 input.sk-toggleable__control:checked~div.sk-toggleable__content {max-height: 200px;max-width: 100%;overflow: auto;}#sk-container-id-2 input.sk-toggleable__control:checked~label.sk-toggleable__label-arrow:before {content: \"▾\";}#sk-container-id-2 div.sk-estimator input.sk-toggleable__control:checked~label.sk-toggleable__label {background-color: #d4ebff;}#sk-container-id-2 div.sk-label input.sk-toggleable__control:checked~label.sk-toggleable__label {background-color: #d4ebff;}#sk-container-id-2 input.sk-hidden--visually {border: 0;clip: rect(1px 1px 1px 1px);clip: rect(1px, 1px, 1px, 1px);height: 1px;margin: -1px;overflow: hidden;padding: 0;position: absolute;width: 1px;}#sk-container-id-2 div.sk-estimator {font-family: monospace;background-color: #f0f8ff;border: 1px dotted black;border-radius: 0.25em;box-sizing: border-box;margin-bottom: 0.5em;}#sk-container-id-2 div.sk-estimator:hover {background-color: #d4ebff;}#sk-container-id-2 div.sk-parallel-item::after {content: \"\";width: 100%;border-bottom: 1px solid gray;flex-grow: 1;}#sk-container-id-2 div.sk-label:hover label.sk-toggleable__label {background-color: #d4ebff;}#sk-container-id-2 div.sk-serial::before {content: \"\";position: absolute;border-left: 1px solid gray;box-sizing: border-box;top: 0;bottom: 0;left: 50%;z-index: 0;}#sk-container-id-2 div.sk-serial {display: flex;flex-direction: column;align-items: center;background-color: white;padding-right: 0.2em;padding-left: 0.2em;position: relative;}#sk-container-id-2 div.sk-item {position: relative;z-index: 1;}#sk-container-id-2 div.sk-parallel {display: flex;align-items: stretch;justify-content: center;background-color: white;position: relative;}#sk-container-id-2 div.sk-item::before, #sk-container-id-2 div.sk-parallel-item::before {content: \"\";position: absolute;border-left: 1px solid gray;box-sizing: border-box;top: 0;bottom: 0;left: 50%;z-index: -1;}#sk-container-id-2 div.sk-parallel-item {display: flex;flex-direction: column;z-index: 1;position: relative;background-color: white;}#sk-container-id-2 div.sk-parallel-item:first-child::after {align-self: flex-end;width: 50%;}#sk-container-id-2 div.sk-parallel-item:last-child::after {align-self: flex-start;width: 50%;}#sk-container-id-2 div.sk-parallel-item:only-child::after {width: 0;}#sk-container-id-2 div.sk-dashed-wrapped {border: 1px dashed gray;margin: 0 0.4em 0.5em 0.4em;box-sizing: border-box;padding-bottom: 0.4em;background-color: white;}#sk-container-id-2 div.sk-label label {font-family: monospace;font-weight: bold;display: inline-block;line-height: 1.2em;}#sk-container-id-2 div.sk-label-container {text-align: center;}#sk-container-id-2 div.sk-container {/* jupyter's `normalize.less` sets `[hidden] { display: none; }` but bootstrap.min.css set `[hidden] { display: none !important; }` so we also need the `!important` here to be able to override the default hidden behavior on the sphinx rendered scikit-learn.org. See: https://github.com/scikit-learn/scikit-learn/issues/21755 */display: inline-block !important;position: relative;}#sk-container-id-2 div.sk-text-repr-fallback {display: none;}</style><div id=\"sk-container-id-2\" class=\"sk-top-container\"><div class=\"sk-text-repr-fallback\"><pre>SVC()</pre><b>In a Jupyter environment, please rerun this cell to show the HTML representation or trust the notebook. <br />On GitHub, the HTML representation is unable to render, please try loading this page with nbviewer.org.</b></div><div class=\"sk-container\" hidden><div class=\"sk-item\"><div class=\"sk-estimator sk-toggleable\"><input class=\"sk-toggleable__control sk-hidden--visually\" id=\"sk-estimator-id-2\" type=\"checkbox\" checked><label for=\"sk-estimator-id-2\" class=\"sk-toggleable__label sk-toggleable__label-arrow\">SVC</label><div class=\"sk-toggleable__content\"><pre>SVC()</pre></div></div></div></div></div>"
      ],
      "text/plain": [
       "SVC()"
      ]
     },
     "execution_count": 14,
     "metadata": {},
     "output_type": "execute_result"
    }
   ],
   "source": [
    "svm_count.fit(x_train_count , y_train)\n",
    "svm_tfidf.fit(x_train_tfidf , y_train)"
   ]
  },
  {
   "cell_type": "markdown",
   "id": "2d7231bd",
   "metadata": {},
   "source": [
    "# 8. Make a prediction and calculate the score for both Logistic Regression and SVM"
   ]
  },
  {
   "cell_type": "code",
   "execution_count": 15,
   "id": "d96a2080",
   "metadata": {},
   "outputs": [],
   "source": [
    "log_count_preduction = log_count.predict(x_test_count)\n",
    "log_tfidf_prediction = log_tfidf.predict(x_test_tfidf)"
   ]
  },
  {
   "cell_type": "code",
   "execution_count": 16,
   "id": "77e9674b",
   "metadata": {},
   "outputs": [],
   "source": [
    "score_log_count = accuracy_score(y_test, log_count_preduction)\n",
    "score_log_tfidf = accuracy_score(y_test, log_tfidf_prediction)"
   ]
  },
  {
   "cell_type": "code",
   "execution_count": 17,
   "id": "fefe3347",
   "metadata": {},
   "outputs": [
    {
     "name": "stdout",
     "output_type": "stream",
     "text": [
      "The TF-IDF score of Logistic Regression:  0.925\n",
      "The conut score of Logistic Regression:  0.925\n"
     ]
    }
   ],
   "source": [
    "print(\"The TF-IDF score of Logistic Regression: \" , score_log_tfidf)\n",
    "print(\"The conut score of Logistic Regression: \" , score_log_count)"
   ]
  },
  {
   "cell_type": "code",
   "execution_count": 24,
   "id": "a70660d8",
   "metadata": {},
   "outputs": [],
   "source": [
    "svm_count_pred = svm_count.predict(x_test_count)\n",
    "svm_tfidf_pred = svm_tfidf.predict(x_test_tfidf)"
   ]
  },
  {
   "cell_type": "code",
   "execution_count": 18,
   "id": "3955a9e3",
   "metadata": {},
   "outputs": [],
   "source": [
    "log_count_conf_matrix = confusion_matrix(y_test , log_count_preduction)\n",
    "log_tfidf_conf_matrix = confusion_matrix( y_test , log_tfidf_prediction)"
   ]
  },
  {
   "cell_type": "code",
   "execution_count": 26,
   "id": "48b3825d",
   "metadata": {},
   "outputs": [],
   "source": [
    "svm_count_conf_matrix = confusion_matrix(y_test , svm_count_pred)\n",
    "svm_tfidf_conf_matrix = confusion_matrix( y_test , svm_tfidf_pred)"
   ]
  },
  {
   "cell_type": "markdown",
   "id": "d01034b8",
   "metadata": {},
   "source": [
    "# 9. Plot a confusion matrix for both Logistic Regression and SVM"
   ]
  },
  {
   "cell_type": "code",
   "execution_count": 20,
   "id": "0cafb458",
   "metadata": {},
   "outputs": [
    {
     "data": {
      "text/plain": [
       "Text(0.5, 1.0, 'Logistic Regression Count')"
      ]
     },
     "execution_count": 20,
     "metadata": {},
     "output_type": "execute_result"
    },
    {
     "data": {
      "image/png": "[encoded data removed]",
      "text/plain": [
       "<Figure size 640x480 with 2 Axes>"
      ]
     },
     "metadata": {},
     "output_type": "display_data"
    }
   ],
   "source": [
    "sns.heatmap(log_count_conf_matrix, annot = True)\n",
    "plt.title('Logistic Regression Count')"
   ]
  },
  {
   "cell_type": "code",
   "execution_count": 21,
   "id": "34193fed",
   "metadata": {},
   "outputs": [
    {
     "data": {
      "text/plain": [
       "Text(0.5, 1.0, 'Logistic Regression Tfidf')"
      ]
     },
     "execution_count": 21,
     "metadata": {},
     "output_type": "execute_result"
    },
    {
     "data": {
      "image/png": "[encoded data removed]",
      "text/plain": [
       "<Figure size 640x480 with 2 Axes>"
      ]
     },
     "metadata": {},
     "output_type": "display_data"
    }
   ],
   "source": [
    "sns.heatmap(log_tfidf_conf_matrix, annot=True, cmap = 'Paired')\n",
    "plt.title('Logistic Regression Tfidf')"
   ]
  },
  {
   "cell_type": "code",
   "execution_count": 27,
   "id": "fb3b14c2",
   "metadata": {},
   "outputs": [
    {
     "data": {
      "text/plain": [
       "Text(0.5, 1.0, 'SVM Count')"
      ]
     },
     "execution_count": 27,
     "metadata": {},
     "output_type": "execute_result"
    },
    {
     "data": {
      "image/png": "[encoded data removed]",
      "text/plain": [
       "<Figure size 640x480 with 2 Axes>"
      ]
     },
     "metadata": {},
     "output_type": "display_data"
    }
   ],
   "source": [
    "sns.heatmap(svm_count_conf_matrix, annot = True)\n",
    "plt.title('SVM Count')"
   ]
  },
  {
   "cell_type": "code",
   "execution_count": 28,
   "id": "7f3aa70d",
   "metadata": {},
   "outputs": [
    {
     "data": {
      "text/plain": [
       "Text(0.5, 1.0, 'SVM TF-IDF')"
      ]
     },
     "execution_count": 28,
     "metadata": {},
     "output_type": "execute_result"
    },
    {
     "data": {
      "image/png": "[encoded data removed]",
      "text/plain": [
       "<Figure size 640x480 with 2 Axes>"
      ]
     },
     "metadata": {},
     "output_type": "display_data"
    }
   ],
   "source": [
    "sns.heatmap(svm_tfidf_conf_matrix, annot=True, cmap = 'Paired')\n",
    "plt.title('SVM TF-IDF')"
   ]
  },
  {
   "cell_type": "code",
   "execution_count": null,
   "id": "9a58dd0a",
   "metadata": {},
   "outputs": [],
   "source": []
  }
 ],
 "metadata": {
  "kernelspec": {
   "display_name": "Python 3 (ipykernel)",
   "language": "python",
   "name": "python3"
  },
  "language_info": {
   "codemirror_mode": {
    "name": "ipython",
    "version": 3
   },
   "file_extension": ".py",
   "mimetype": "text/x-python",
   "name": "python",
   "nbconvert_exporter": "python",
   "pygments_lexer": "ipython3",
   "version": "3.10.9"
  }
 },
 "nbformat": 4,
 "nbformat_minor": 5
}
